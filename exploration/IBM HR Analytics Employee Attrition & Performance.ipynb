{
 "cells": [
  {
   "cell_type": "code",
   "id": "initial_id",
   "metadata": {
    "collapsed": true,
    "ExecuteTime": {
     "end_time": "2024-12-26T15:50:34.645604Z",
     "start_time": "2024-12-26T15:50:34.635870Z"
    }
   },
   "source": [
    "import os\n",
    "from dotenv import load_dotenv\n",
    "import pathlib\n",
    "import kagglehub\n",
    "import shutil\n",
    "\n",
    "load_dotenv()\n",
    "\n",
    "kaggle_username = os.environ.get(\"KAGGLE_USERNAME\")\n",
    "kaggle_key = os.environ.get(\"KAGGLE_KEY\")"
   ],
   "outputs": [],
   "execution_count": 16
  },
  {
   "metadata": {
    "ExecuteTime": {
     "end_time": "2024-12-26T15:50:37.365409Z",
     "start_time": "2024-12-26T15:50:36.361341Z"
    }
   },
   "cell_type": "code",
   "source": [
    "# Download latest version\n",
    "path = kagglehub.dataset_download(\"pavansubhasht/ibm-hr-analytics-attrition-dataset\")\n",
    "\n",
    "pathlib.Path(\"exploration/data\").mkdir(parents=True, exist_ok=True)\n",
    "shutil.move(path, \"exploration/data\")"
   ],
   "id": "d4d23cbe8a14806",
   "outputs": [],
   "execution_count": 17
  }
 ],
 "metadata": {
  "kernelspec": {
   "display_name": "Python 3",
   "language": "python",
   "name": "python3"
  },
  "language_info": {
   "codemirror_mode": {
    "name": "ipython",
    "version": 2
   },
   "file_extension": ".py",
   "mimetype": "text/x-python",
   "name": "python",
   "nbconvert_exporter": "python",
   "pygments_lexer": "ipython2",
   "version": "2.7.6"
  }
 },
 "nbformat": 4,
 "nbformat_minor": 5
}
